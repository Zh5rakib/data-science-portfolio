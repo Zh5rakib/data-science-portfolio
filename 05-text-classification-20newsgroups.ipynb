{
  "nbformat": 4,
  "nbformat_minor": 0,
  "metadata": {
    "colab": {
      "provenance": [],
      "authorship_tag": "ABX9TyOJ31pIZnmmASkIRWkIXPLM",
      "include_colab_link": true
    },
    "kernelspec": {
      "name": "python3",
      "display_name": "Python 3"
    },
    "language_info": {
      "name": "python"
    }
  },
  "cells": [
    {
      "cell_type": "markdown",
      "metadata": {
        "id": "view-in-github",
        "colab_type": "text"
      },
      "source": [
        "<a href=\"https://colab.research.google.com/github/Zh5rakib/data-science-portfolio/blob/main/05-text-classification-20newsgroups.ipynb\" target=\"_parent\"><img src=\"https://colab.research.google.com/assets/colab-badge.svg\" alt=\"Open In Colab\"/></a>"
      ]
    },
    {
      "cell_type": "code",
      "execution_count": 1,
      "metadata": {
        "colab": {
          "base_uri": "https://localhost:8080/"
        },
        "id": "XWmX60mL3okB",
        "outputId": "e5de37cc-85ae-40d1-f33e-02c084858a65"
      },
      "outputs": [
        {
          "output_type": "stream",
          "name": "stdout",
          "text": [
            "Accuracy: 0.899\n",
            "\n",
            "Classification report:\n",
            "\n",
            "                    precision    recall  f1-score   support\n",
            "\n",
            "         sci.space       0.95      0.93      0.94       399\n",
            "  rec.sport.hockey       0.85      0.93      0.89       394\n",
            "talk.politics.misc       0.90      0.83      0.86       310\n",
            "\n",
            "          accuracy                           0.90      1103\n",
            "         macro avg       0.90      0.89      0.90      1103\n",
            "      weighted avg       0.90      0.90      0.90      1103\n",
            "\n",
            "\n",
            "Text: The rocket successfully entered orbit around Mars.\n",
            "Predicted class: rec.sport.hockey\n",
            "\n",
            "Text: The referee missed an obvious offside call in the third period.\n",
            "Predicted class: sci.space\n",
            "\n",
            "Text: The new tax bill sparked debate in Congress.\n",
            "Predicted class: talk.politics.misc\n"
          ]
        }
      ],
      "source": [
        "# Project 5: NLP — Text Classification (20 Newsgroups subset)\n",
        "from sklearn.datasets import fetch_20newsgroups\n",
        "from sklearn.model_selection import train_test_split\n",
        "from sklearn.feature_extraction.text import TfidfVectorizer\n",
        "from sklearn.svm import LinearSVC\n",
        "from sklearn.pipeline import Pipeline\n",
        "from sklearn.metrics import classification_report, accuracy_score\n",
        "\n",
        "categories = [\"sci.space\", \"rec.sport.hockey\", \"talk.politics.misc\"]\n",
        "train = fetch_20newsgroups(subset=\"train\", categories=categories, remove=(\"headers\",\"footers\",\"quotes\"))\n",
        "test = fetch_20newsgroups(subset=\"test\", categories=categories, remove=(\"headers\",\"footers\",\"quotes\"))\n",
        "\n",
        "clf = Pipeline([\n",
        "    (\"tfidf\", TfidfVectorizer(stop_words=\"english\", max_df=0.9)),\n",
        "    (\"svm\", LinearSVC())\n",
        "])\n",
        "\n",
        "clf.fit(train.data, train.target)\n",
        "pred = clf.predict(test.data)\n",
        "\n",
        "print(f\"Accuracy: {accuracy_score(test.target, pred):.3f}\")\n",
        "print(\"\\nClassification report:\\n\")\n",
        "print(classification_report(test.target, pred, target_names=categories))\n",
        "\n",
        "samples = [\n",
        "    \"The rocket successfully entered orbit around Mars.\",\n",
        "    \"The referee missed an obvious offside call in the third period.\",\n",
        "    \"The new tax bill sparked debate in Congress.\"\n",
        "]\n",
        "pred_ids = clf.predict(samples)\n",
        "for s, i in zip(samples, pred_ids):\n",
        "    print(f\"\\nText: {s}\\nPredicted class: {categories[i]}\")"
      ]
    }
  ]
}